{
 "cells": [
  {
   "cell_type": "code",
   "execution_count": null,
   "id": "5e639a4d-0931-485d-a5ff-f62d8136d1bc",
   "metadata": {},
   "outputs": [],
   "source": [
    "mersenne = 2**51 - 1\n",
    "#so this is the mersenne number that I claimed to be a composite number! 2^51 - 1\n",
    "#take note that exponents are expressed in python with double multiplication signs instead of a wedge!\n",
    "\n",
    "factor1 = 7\n",
    "#so my claim is going to be supported by showing that the remainder of mersenne/7 is ZERO.\n",
    "\n",
    "\n",
    "factor2 = 2**17 -1\n",
    "#as further proof to my claim, here's another number that should divide mersenne with no remainders\n",
    "\n",
    "\n",
    "print('The remainder of mersenne divided by factor1 is')\n",
    "print(mersenne%factor1)\n",
    "\n",
    "\n",
    "print('The remainder of mersenne divided by factor2 is')\n",
    "print(mersenne%factor2)     \n",
    "#the modulo function, represented by % sign, returns the remainder when mersenne/factor1 or factor2\n",
    "      \n",
    "      \n",
    "#finally, press shift+enter to run the code in this cell!\n",
    "\n",
    "#feel free to mess around with the numbers in this code to explore more on mersenne numbers!"
   ]
  }
 ],
 "metadata": {
  "kernelspec": {
   "display_name": "Python 3 (ipykernel)",
   "language": "python",
   "name": "python3"
  },
  "language_info": {
   "codemirror_mode": {
    "name": "ipython",
    "version": 3
   },
   "file_extension": ".py",
   "mimetype": "text/x-python",
   "name": "python",
   "nbconvert_exporter": "python",
   "pygments_lexer": "ipython3",
   "version": "3.8.5"
  }
 },
 "nbformat": 4,
 "nbformat_minor": 5
}
